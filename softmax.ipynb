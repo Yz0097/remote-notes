{
 "cells": [
  {
   "cell_type": "code",
   "execution_count": null,
   "metadata": {},
   "outputs": [],
   "source": []
  },
  {
   "cell_type": "markdown",
   "metadata": {},
   "source": [
    "# SoftMax操作\n",
    "$$\n",
    "\\begin{align}\n",
    "&O=XW+b\\newline\n",
    "&Y=softmax(O)\n",
    "\\end{align}\n",
    "$$\n",
    "softmax函数操作具体为\n",
    "$$y_j = exp(o_j)/\\sigma_k exp(o_k)$$\n",
    "操作后依然满足$\\argmax\\limits_j y_j = \\argmax\\limits_j o_j$. softmax本身是一个非线性函数,但是sofmax变换的输出仍然由原变换(矩阵乘,仿射)决定,softmax层仍是线性的.     \n",
    "读取一个批次的样本$X$,样本数量n,样本维数d(特征数量); $W$仿射变换矩阵尺寸d*p, 偏置b$b$尺寸1*p;得到中间结果$O$,尺寸n*p\n",
    "\n",
    "\n"
   ]
  },
  {
   "cell_type": "markdown",
   "metadata": {},
   "source": [
    "\n",
    "$\\argmax\\limits_{n}$\n",
    "$\\{\\arg\\min}\\limits^{\\theta}$"
   ]
  },
  {
   "cell_type": "markdown",
   "metadata": {},
   "source": [
    "$$\\begin{align}\n",
    "\\sideset{}{}{c}_{d}^{e}\n",
    "\\end{align}$$"
   ]
  },
  {
   "cell_type": "markdown",
   "metadata": {},
   "source": []
  }
 ],
 "metadata": {
  "language_info": {
   "name": "python"
  },
  "orig_nbformat": 4
 },
 "nbformat": 4,
 "nbformat_minor": 2
}
