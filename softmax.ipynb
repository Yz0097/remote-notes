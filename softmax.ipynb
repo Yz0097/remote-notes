{
 "cells": [
  {
   "cell_type": "code",
   "execution_count": null,
   "metadata": {},
   "outputs": [],
   "source": []
  },
  {
   "cell_type": "markdown",
   "metadata": {},
   "source": [
    "# SoftMax操作\n",
    "$$\n",
    "\\begin{align}\n",
    "&O=XW+b\\newline\n",
    "&Y=softmax(O)\n",
    "\\end{align}\n",
    "$$\n",
    "softmax函数操作具体为\n",
    "$$y_j = exp(o_j)/\\sigma_k exp(o_k)$$\n",
    "操作后依然满足$$\\argmax\\limits_j y_j = \\argmax\\limits_j o_j$$softmax本身是一个非线性函数,但是sofmax变换的输出仍然由原变换(矩阵乘,仿射)决定,softmax层仍是线性的.     \n",
    "读取一个批次的样本$X$,样本数量$n$,样本维数$d$(特征数量);    \n",
    " $W$仿射变换矩阵尺寸$d*p$, 偏置$b$尺寸$1*p$;    \n",
    " 得到中间结果$O$,尺寸$n*p$\n",
    "    \n",
    "     \n",
    "记模型输出$\\widehat{y}$, lable为$y$,有交叉熵损失函数$$l(y,\\widehat{y}) = -\\sum_{j=1}^{p}y_j\\log\\widehat{y}_j$$\n",
    "这个式子的特点是由于$y_j$是一个只有一维为1，其他维均为0的独热编码向量，所以最后有$$l(y,\\widehat{y}) = -y_k \\log\\widehat{y}_k|_{k\\ s.t. y_k=1}$$      \n",
    "因为有$$P(Y|X) = \\prod^n_{i=1}P(\\widehat{y}^{(i)} = y^{(i)}|x^{(i)})$$\n",
    "softmax后的结果表示$\\widehat{y}^{(i)} = y^{(i)}$的条件概率，两边同取负对数$$-logP(Y|X) = \\sum^n_{i=1}-logP(\\widehat{y}^{(i)} = y^{(i)}|x^{(i)})$$\n"
   ]
  },
  {
   "cell_type": "markdown",
   "metadata": {},
   "source": []
  }
 ],
 "metadata": {
  "kernelspec": {
   "display_name": "Python 3",
   "language": "python",
   "name": "python3"
  },
  "language_info": {
   "name": "python",
   "version": "3.9.18"
  },
  "orig_nbformat": 4
 },
 "nbformat": 4,
 "nbformat_minor": 2
}
